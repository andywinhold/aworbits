{
 "cells": [
  {
   "cell_type": "code",
   "execution_count": null,
   "metadata": {
    "collapsed": true
   },
   "outputs": [],
   "source": [
    "#masses in kg\n",
    "m = np.zeros([9,1])\n",
    "m[0] = 0.33*10**24 # merc\n",
    "m[1] = 4.87*10**24 # venus\n",
    "m[2] = 5.97*10**24 # earth\n",
    "m[3] = 0.642*10**24 # mars\n",
    "m[4] = 1898*10**24 # jup\n",
    "m[5] = 568*10**24 # sat\n",
    "m[6] = 86.8*10**24 # uran\n",
    "m[7] = 102*10**24 # nep\n",
    "m[8] = 0.0166*10**24 # eris"
   ]
  }
 ],
 "metadata": {
  "kernelspec": {
   "display_name": "Python 3",
   "language": "python",
   "name": "python3"
  },
  "language_info": {
   "codemirror_mode": {
    "name": "ipython",
    "version": 3
   },
   "file_extension": ".py",
   "mimetype": "text/x-python",
   "name": "python",
   "nbconvert_exporter": "python",
   "pygments_lexer": "ipython3",
   "version": "3.5.1"
  }
 },
 "nbformat": 4,
 "nbformat_minor": 0
}
