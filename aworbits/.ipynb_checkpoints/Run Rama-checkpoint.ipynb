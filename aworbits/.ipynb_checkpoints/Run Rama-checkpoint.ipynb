{
 "cells": [
  {
   "cell_type": "code",
   "execution_count": 1,
   "metadata": {
    "collapsed": false
   },
   "outputs": [
    {
     "ename": "ImportError",
     "evalue": "No module named 'matplotlib'",
     "output_type": "error",
     "traceback": [
      "\u001b[0;31m---------------------------------------------------------------------------\u001b[0m",
      "\u001b[0;31mImportError\u001b[0m                               Traceback (most recent call last)",
      "\u001b[0;32m<ipython-input-1-6a1713ff2b1c>\u001b[0m in \u001b[0;36m<module>\u001b[0;34m()\u001b[0m\n\u001b[1;32m      2\u001b[0m \u001b[0;32mimport\u001b[0m \u001b[0mgetcoordinates\u001b[0m\u001b[0;34m\u001b[0m\u001b[0m\n\u001b[1;32m      3\u001b[0m \u001b[0;32mimport\u001b[0m \u001b[0mnumpy\u001b[0m \u001b[0;32mas\u001b[0m \u001b[0mnp\u001b[0m\u001b[0;34m\u001b[0m\u001b[0m\n\u001b[0;32m----> 4\u001b[0;31m \u001b[0;32mimport\u001b[0m \u001b[0mmatplotlib\u001b[0m \u001b[0;32mas\u001b[0m \u001b[0mmpl\u001b[0m\u001b[0;34m\u001b[0m\u001b[0m\n\u001b[0m\u001b[1;32m      5\u001b[0m \u001b[0;32mimport\u001b[0m \u001b[0mmatplotlib\u001b[0m\u001b[0;34m.\u001b[0m\u001b[0mpyplot\u001b[0m \u001b[0;32mas\u001b[0m \u001b[0mplt\u001b[0m\u001b[0;34m\u001b[0m\u001b[0m\n\u001b[1;32m      6\u001b[0m \u001b[0;32mfrom\u001b[0m \u001b[0mmpl_toolkits\u001b[0m\u001b[0;34m.\u001b[0m\u001b[0mmplot3d\u001b[0m \u001b[0;32mimport\u001b[0m \u001b[0mAxes3D\u001b[0m\u001b[0;34m\u001b[0m\u001b[0m\n",
      "\u001b[0;31mImportError\u001b[0m: No module named 'matplotlib'"
     ]
    }
   ],
   "source": [
    "import rama\n",
    "import getcoordinates\n",
    "import numpy as np\n",
    "import matplotlib as mpl\n",
    "import matplotlib.pyplot as plt\n",
    "from mpl_toolkits.mplot3d import Axes3D\n",
    "from importlib import reload\n",
    "import time\n",
    "import epoch as ep\n"
   ]
  },
  {
   "cell_type": "code",
   "execution_count": null,
   "metadata": {
    "collapsed": false
   },
   "outputs": [],
   "source": [
    "# based on getcoordinates\n",
    "tmax = 2 #units of years\n",
    "dt = 0.001 #units of years\n",
    "t = np.linspace(0, tmax, int(tmax/dt))\n",
    "\n",
    "r, v = getcoordinates.get_perifocal()\n",
    "er, ev = getcoordinates.get_heliocentric(r, v)\n",
    "\n",
    "rama_r =[[-2.0002,1.99998,.19994]]\n",
    "rama_v = [[7.97836,-3.667243,-0.005509]]\n",
    "\n",
    "er, ev = getcoordinates.add_Rama(er, ev, rama_r, rama_v)"
   ]
  },
  {
   "cell_type": "code",
   "execution_count": null,
   "metadata": {
    "collapsed": false
   },
   "outputs": [],
   "source": [
    "xt1, vt, KE, UE, TE = rama.dynamics(er, ev, dt, tmax)"
   ]
  },
  {
   "cell_type": "code",
   "execution_count": null,
   "metadata": {
    "collapsed": false,
    "scrolled": false
   },
   "outputs": [],
   "source": [
    "%matplotlib notebook\n",
    "\n",
    "mpl.rcParams['legend.fontsize'] = 10\n",
    "\n",
    "fig2 = plt.figure()\n",
    "ax2 = fig2.add_subplot(111, projection='3d')\n",
    "ax2.scatter(xt1[:,0,0],xt1[:,0,1],xt1[:,0,2], color='yellow', label='sun')\n",
    "ax2.plot(xt1[:,1,0],xt1[:,1,1],xt1[:,1,2], color='black', label='mercury')\n",
    "ax2.plot(xt1[:,2,0],xt1[:,2,1],xt1[:,2,2], color='green', label='venus')\n",
    "ax2.plot(xt1[:,3,0],xt1[:,3,1],xt1[:,3,2], color='blue', label='earth')\n",
    "ax2.plot(xt1[:,4,0],xt1[:,4,1],xt1[:,4,2], color='red', label='mars')\n",
    "ax2.plot(xt1[:,5,0],xt1[:,5,1],xt1[:,5,2], color='magenta', label='jupiter')\n",
    "#ax2.plot(xt1[:,6,0],xt1[:,6,1],xt1[:,6,2], color='blue', label='saturn') # These three planets are so far out that they skew the chart.\n",
    "#ax2.plot(xt1[:,7,0],xt1[:,7,1],xt1[:,7,2], color='green', label='uranus')\n",
    "#ax2.plot(xt1[:,8,0],xt1[:,8,1],xt1[:,8,2], color='cyan', label='neptune')\n",
    "if len(ev) == 11:\n",
    "    ax2.plot(xt1[:,10,0],xt1[:,10,1],xt1[:,10,2], color='orange', label='rama')\n",
    "ax2.set_xlabel(\"x\")\n",
    "ax2.set_ylabel(\"y\")\n",
    "ax2.set_zlabel(\"z\")\n",
    "ax2.auto_scale_xyz([-2,2],[-2,2],[-2,2])\n",
    "ax2.legend(bbox_to_anchor=(1,1), bbox_transform=plt.gcf().transFigure)"
   ]
  },
  {
   "cell_type": "code",
   "execution_count": null,
   "metadata": {
    "collapsed": false
   },
   "outputs": [],
   "source": [
    "%matplotlib inline\n",
    "\n",
    "plt.plot(t, KE)\n",
    "plt.plot(t, UE)\n",
    "plt.plot(t, TE)"
   ]
  },
  {
   "cell_type": "code",
   "execution_count": null,
   "metadata": {
    "collapsed": false
   },
   "outputs": [],
   "source": [
    "print(\"Energy is conserved to a value of: \", TE[0]-TE[-1])"
   ]
  },
  {
   "cell_type": "code",
   "execution_count": null,
   "metadata": {
    "collapsed": false
   },
   "outputs": [],
   "source": [
    "reload(ep)"
   ]
  },
  {
   "cell_type": "code",
   "execution_count": null,
   "metadata": {
    "collapsed": false
   },
   "outputs": [],
   "source": [
    "y = 2004\n",
    "mo = 5\n",
    "d = 12\n",
    "ale = ep.J_0(y, m, d)\n",
    "print(ale)"
   ]
  },
  {
   "cell_type": "code",
   "execution_count": null,
   "metadata": {
    "collapsed": false
   },
   "outputs": [],
   "source": [
    "hr = 14\n",
    "m = 45\n",
    "sec = 30\n",
    "bety = ep.UT(hr, m, sec)\n",
    "bety = np.int(bety)\n",
    "print(bety)"
   ]
  },
  {
   "cell_type": "code",
   "execution_count": null,
   "metadata": {
    "collapsed": false
   },
   "outputs": [],
   "source": [
    "tron = ep.JD(ale, bety)"
   ]
  },
  {
   "cell_type": "code",
   "execution_count": null,
   "metadata": {
    "collapsed": false
   },
   "outputs": [],
   "source": [
    "print(tron)"
   ]
  },
  {
   "cell_type": "code",
   "execution_count": null,
   "metadata": {
    "collapsed": true
   },
   "outputs": [],
   "source": [
    "tron = round(tron, 4)"
   ]
  },
  {
   "cell_type": "code",
   "execution_count": null,
   "metadata": {
    "collapsed": false
   },
   "outputs": [],
   "source": [
    "print(tron)"
   ]
  },
  {
   "cell_type": "code",
   "execution_count": null,
   "metadata": {
    "collapsed": true
   },
   "outputs": [],
   "source": []
  }
 ],
 "metadata": {
  "kernelspec": {
   "display_name": "Python 3",
   "language": "python",
   "name": "python3"
  },
  "language_info": {
   "codemirror_mode": {
    "name": "ipython",
    "version": 3
   },
   "file_extension": ".py",
   "mimetype": "text/x-python",
   "name": "python",
   "nbconvert_exporter": "python",
   "pygments_lexer": "ipython3",
   "version": "3.5.2"
  }
 },
 "nbformat": 4,
 "nbformat_minor": 0
}
